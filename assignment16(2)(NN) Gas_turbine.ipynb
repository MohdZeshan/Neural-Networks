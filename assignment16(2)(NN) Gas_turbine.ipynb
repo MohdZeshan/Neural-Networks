{
 "cells": [
  {
   "cell_type": "code",
   "execution_count": 1,
   "id": "00e164e9",
   "metadata": {},
   "outputs": [],
   "source": [
    "from tensorflow.keras.models import Sequential\n",
    "from keras.layers import Dense\n",
    "import tensorflow as tf\n",
    "from tensorflow.keras.models import load_model\n",
    "from tensorflow.keras import layers\n",
    "import pandas as pd\n",
    "import numpy as np\n",
    "import keras\n",
    "from sklearn.preprocessing import StandardScaler\n",
    "from sklearn.model_selection import GridSearchCV, KFold\n",
    "from keras.models import Sequential\n",
    "from keras.layers import Dense\n",
    "from keras.wrappers.scikit_learn import KerasClassifier\n",
    "from tensorflow.keras.optimizers import Adam\n",
    "from keras.layers import Dropout\n",
    "from sklearn.metrics import classification_report, accuracy_score\n",
    "from sklearn.model_selection import train_test_split"
   ]
  },
  {
   "cell_type": "code",
   "execution_count": 2,
   "id": "bc193e18",
   "metadata": {},
   "outputs": [],
   "source": [
    "data=pd.read_csv('E:\\\\data science\\\\assiments\\\\16\\\\gas_turbines.csv')"
   ]
  },
  {
   "cell_type": "code",
   "execution_count": 3,
   "id": "d4a39cca",
   "metadata": {},
   "outputs": [
    {
     "data": {
      "text/html": [
       "<div>\n",
       "<style scoped>\n",
       "    .dataframe tbody tr th:only-of-type {\n",
       "        vertical-align: middle;\n",
       "    }\n",
       "\n",
       "    .dataframe tbody tr th {\n",
       "        vertical-align: top;\n",
       "    }\n",
       "\n",
       "    .dataframe thead th {\n",
       "        text-align: right;\n",
       "    }\n",
       "</style>\n",
       "<table border=\"1\" class=\"dataframe\">\n",
       "  <thead>\n",
       "    <tr style=\"text-align: right;\">\n",
       "      <th></th>\n",
       "      <th>AT</th>\n",
       "      <th>AP</th>\n",
       "      <th>AH</th>\n",
       "      <th>AFDP</th>\n",
       "      <th>GTEP</th>\n",
       "      <th>TIT</th>\n",
       "      <th>TAT</th>\n",
       "      <th>TEY</th>\n",
       "      <th>CDP</th>\n",
       "      <th>CO</th>\n",
       "      <th>NOX</th>\n",
       "    </tr>\n",
       "  </thead>\n",
       "  <tbody>\n",
       "    <tr>\n",
       "      <th>0</th>\n",
       "      <td>6.8594</td>\n",
       "      <td>1007.9</td>\n",
       "      <td>96.799</td>\n",
       "      <td>3.5000</td>\n",
       "      <td>19.663</td>\n",
       "      <td>1059.2</td>\n",
       "      <td>550.00</td>\n",
       "      <td>114.70</td>\n",
       "      <td>10.605</td>\n",
       "      <td>3.1547</td>\n",
       "      <td>82.722</td>\n",
       "    </tr>\n",
       "    <tr>\n",
       "      <th>1</th>\n",
       "      <td>6.7850</td>\n",
       "      <td>1008.4</td>\n",
       "      <td>97.118</td>\n",
       "      <td>3.4998</td>\n",
       "      <td>19.728</td>\n",
       "      <td>1059.3</td>\n",
       "      <td>550.00</td>\n",
       "      <td>114.72</td>\n",
       "      <td>10.598</td>\n",
       "      <td>3.2363</td>\n",
       "      <td>82.776</td>\n",
       "    </tr>\n",
       "    <tr>\n",
       "      <th>2</th>\n",
       "      <td>6.8977</td>\n",
       "      <td>1008.8</td>\n",
       "      <td>95.939</td>\n",
       "      <td>3.4824</td>\n",
       "      <td>19.779</td>\n",
       "      <td>1059.4</td>\n",
       "      <td>549.87</td>\n",
       "      <td>114.71</td>\n",
       "      <td>10.601</td>\n",
       "      <td>3.2012</td>\n",
       "      <td>82.468</td>\n",
       "    </tr>\n",
       "    <tr>\n",
       "      <th>3</th>\n",
       "      <td>7.0569</td>\n",
       "      <td>1009.2</td>\n",
       "      <td>95.249</td>\n",
       "      <td>3.4805</td>\n",
       "      <td>19.792</td>\n",
       "      <td>1059.6</td>\n",
       "      <td>549.99</td>\n",
       "      <td>114.72</td>\n",
       "      <td>10.606</td>\n",
       "      <td>3.1923</td>\n",
       "      <td>82.670</td>\n",
       "    </tr>\n",
       "    <tr>\n",
       "      <th>4</th>\n",
       "      <td>7.3978</td>\n",
       "      <td>1009.7</td>\n",
       "      <td>95.150</td>\n",
       "      <td>3.4976</td>\n",
       "      <td>19.765</td>\n",
       "      <td>1059.7</td>\n",
       "      <td>549.98</td>\n",
       "      <td>114.72</td>\n",
       "      <td>10.612</td>\n",
       "      <td>3.2484</td>\n",
       "      <td>82.311</td>\n",
       "    </tr>\n",
       "    <tr>\n",
       "      <th>...</th>\n",
       "      <td>...</td>\n",
       "      <td>...</td>\n",
       "      <td>...</td>\n",
       "      <td>...</td>\n",
       "      <td>...</td>\n",
       "      <td>...</td>\n",
       "      <td>...</td>\n",
       "      <td>...</td>\n",
       "      <td>...</td>\n",
       "      <td>...</td>\n",
       "      <td>...</td>\n",
       "    </tr>\n",
       "    <tr>\n",
       "      <th>15034</th>\n",
       "      <td>9.0301</td>\n",
       "      <td>1005.6</td>\n",
       "      <td>98.460</td>\n",
       "      <td>3.5421</td>\n",
       "      <td>19.164</td>\n",
       "      <td>1049.7</td>\n",
       "      <td>546.21</td>\n",
       "      <td>111.61</td>\n",
       "      <td>10.400</td>\n",
       "      <td>4.5186</td>\n",
       "      <td>79.559</td>\n",
       "    </tr>\n",
       "    <tr>\n",
       "      <th>15035</th>\n",
       "      <td>7.8879</td>\n",
       "      <td>1005.9</td>\n",
       "      <td>99.093</td>\n",
       "      <td>3.5059</td>\n",
       "      <td>19.414</td>\n",
       "      <td>1046.3</td>\n",
       "      <td>543.22</td>\n",
       "      <td>111.78</td>\n",
       "      <td>10.433</td>\n",
       "      <td>4.8470</td>\n",
       "      <td>79.917</td>\n",
       "    </tr>\n",
       "    <tr>\n",
       "      <th>15036</th>\n",
       "      <td>7.2647</td>\n",
       "      <td>1006.3</td>\n",
       "      <td>99.496</td>\n",
       "      <td>3.4770</td>\n",
       "      <td>19.530</td>\n",
       "      <td>1037.7</td>\n",
       "      <td>537.32</td>\n",
       "      <td>110.19</td>\n",
       "      <td>10.483</td>\n",
       "      <td>7.9632</td>\n",
       "      <td>90.912</td>\n",
       "    </tr>\n",
       "    <tr>\n",
       "      <th>15037</th>\n",
       "      <td>7.0060</td>\n",
       "      <td>1006.8</td>\n",
       "      <td>99.008</td>\n",
       "      <td>3.4486</td>\n",
       "      <td>19.377</td>\n",
       "      <td>1043.2</td>\n",
       "      <td>541.24</td>\n",
       "      <td>110.74</td>\n",
       "      <td>10.533</td>\n",
       "      <td>6.2494</td>\n",
       "      <td>93.227</td>\n",
       "    </tr>\n",
       "    <tr>\n",
       "      <th>15038</th>\n",
       "      <td>6.9279</td>\n",
       "      <td>1007.2</td>\n",
       "      <td>97.533</td>\n",
       "      <td>3.4275</td>\n",
       "      <td>19.306</td>\n",
       "      <td>1049.9</td>\n",
       "      <td>545.85</td>\n",
       "      <td>111.58</td>\n",
       "      <td>10.583</td>\n",
       "      <td>4.9816</td>\n",
       "      <td>92.498</td>\n",
       "    </tr>\n",
       "  </tbody>\n",
       "</table>\n",
       "<p>15039 rows × 11 columns</p>\n",
       "</div>"
      ],
      "text/plain": [
       "           AT      AP      AH    AFDP    GTEP     TIT     TAT     TEY     CDP  \\\n",
       "0      6.8594  1007.9  96.799  3.5000  19.663  1059.2  550.00  114.70  10.605   \n",
       "1      6.7850  1008.4  97.118  3.4998  19.728  1059.3  550.00  114.72  10.598   \n",
       "2      6.8977  1008.8  95.939  3.4824  19.779  1059.4  549.87  114.71  10.601   \n",
       "3      7.0569  1009.2  95.249  3.4805  19.792  1059.6  549.99  114.72  10.606   \n",
       "4      7.3978  1009.7  95.150  3.4976  19.765  1059.7  549.98  114.72  10.612   \n",
       "...       ...     ...     ...     ...     ...     ...     ...     ...     ...   \n",
       "15034  9.0301  1005.6  98.460  3.5421  19.164  1049.7  546.21  111.61  10.400   \n",
       "15035  7.8879  1005.9  99.093  3.5059  19.414  1046.3  543.22  111.78  10.433   \n",
       "15036  7.2647  1006.3  99.496  3.4770  19.530  1037.7  537.32  110.19  10.483   \n",
       "15037  7.0060  1006.8  99.008  3.4486  19.377  1043.2  541.24  110.74  10.533   \n",
       "15038  6.9279  1007.2  97.533  3.4275  19.306  1049.9  545.85  111.58  10.583   \n",
       "\n",
       "           CO     NOX  \n",
       "0      3.1547  82.722  \n",
       "1      3.2363  82.776  \n",
       "2      3.2012  82.468  \n",
       "3      3.1923  82.670  \n",
       "4      3.2484  82.311  \n",
       "...       ...     ...  \n",
       "15034  4.5186  79.559  \n",
       "15035  4.8470  79.917  \n",
       "15036  7.9632  90.912  \n",
       "15037  6.2494  93.227  \n",
       "15038  4.9816  92.498  \n",
       "\n",
       "[15039 rows x 11 columns]"
      ]
     },
     "execution_count": 3,
     "metadata": {},
     "output_type": "execute_result"
    }
   ],
   "source": [
    "data"
   ]
  },
  {
   "cell_type": "code",
   "execution_count": 4,
   "id": "58d14c28",
   "metadata": {},
   "outputs": [],
   "source": [
    "data[\"TEy\"]=1\n",
    "data.loc[data[\"TEY\"]> 135,\"TEy\"]=2\n",
    "data.drop([\"TEY\"],axis=1,inplace=True)"
   ]
  },
  {
   "cell_type": "code",
   "execution_count": 5,
   "id": "1a6ad3a7",
   "metadata": {},
   "outputs": [],
   "source": [
    "x = np.array(data.iloc[:,0:10])\n",
    "y = np.array(data.iloc[:,10])\n"
   ]
  },
  {
   "cell_type": "code",
   "execution_count": 6,
   "id": "a9c2aa07",
   "metadata": {},
   "outputs": [
    {
     "data": {
      "text/plain": [
       "array([1, 1, 1, ..., 1, 1, 1], dtype=int64)"
      ]
     },
     "execution_count": 6,
     "metadata": {},
     "output_type": "execute_result"
    }
   ],
   "source": [
    "y"
   ]
  },
  {
   "cell_type": "markdown",
   "id": "95b84f1a",
   "metadata": {},
   "source": [
    "### normalizing data"
   ]
  },
  {
   "cell_type": "code",
   "execution_count": 7,
   "id": "2bd7e170",
   "metadata": {},
   "outputs": [],
   "source": [
    "def norm_func(i):\n",
    "    x = (i-i.min())/(i.max()-i.min())\n",
    "    return (x)"
   ]
  },
  {
   "cell_type": "code",
   "execution_count": 8,
   "id": "9c532f51",
   "metadata": {},
   "outputs": [],
   "source": [
    "x_norm = norm_func(x)"
   ]
  },
  {
   "cell_type": "markdown",
   "id": "f7fe4d64",
   "metadata": {},
   "source": [
    "### data spliting"
   ]
  },
  {
   "cell_type": "code",
   "execution_count": 9,
   "id": "0aba14b6",
   "metadata": {},
   "outputs": [],
   "source": [
    "x_train,x_test,y_train,y_test= train_test_split(x_norm,y, test_size=0.2,stratify = y)"
   ]
  },
  {
   "cell_type": "markdown",
   "id": "1646333a",
   "metadata": {},
   "source": [
    "### Applying NN"
   ]
  },
  {
   "cell_type": "code",
   "execution_count": 10,
   "id": "fa8b3ba6",
   "metadata": {},
   "outputs": [],
   "source": [
    "model = Sequential()\n",
    "model.add(Dense(8, input_dim=10, activation='relu'))\n",
    "model.add(Dense(4,  activation='linear'))\n",
    "model.add(Dense(1,  activation='sigmoid'))"
   ]
  },
  {
   "cell_type": "code",
   "execution_count": 11,
   "id": "3310d242",
   "metadata": {},
   "outputs": [],
   "source": [
    "model.compile(loss='binary_crossentropy', optimizer='adam', metrics=['accuracy'])"
   ]
  },
  {
   "cell_type": "code",
   "execution_count": 12,
   "id": "08ce11dd",
   "metadata": {},
   "outputs": [
    {
     "name": "stdout",
     "output_type": "stream",
     "text": [
      "Epoch 1/50\n",
      "843/843 [==============================] - 7s 6ms/step - loss: -17.0666 - accuracy: 0.7051 - val_loss: -71.9536 - val_accuracy: 0.6956\n",
      "Epoch 2/50\n",
      "843/843 [==============================] - 4s 5ms/step - loss: -246.5210 - accuracy: 0.7064 - val_loss: -521.3580 - val_accuracy: 0.6956\n",
      "Epoch 3/50\n",
      "843/843 [==============================] - 4s 4ms/step - loss: -934.2357 - accuracy: 0.7064 - val_loss: -1520.4380 - val_accuracy: 0.6956\n",
      "Epoch 4/50\n",
      "843/843 [==============================] - 4s 4ms/step - loss: -2199.1267 - accuracy: 0.7064 - val_loss: -3155.9568 - val_accuracy: 0.6956\n",
      "Epoch 5/50\n",
      "843/843 [==============================] - 4s 5ms/step - loss: -4112.7939 - accuracy: 0.7064 - val_loss: -5503.2451 - val_accuracy: 0.6956\n",
      "Epoch 6/50\n",
      "843/843 [==============================] - 3s 4ms/step - loss: -6736.0815 - accuracy: 0.7064 - val_loss: -8611.5352 - val_accuracy: 0.6956\n",
      "Epoch 7/50\n",
      "843/843 [==============================] - 3s 4ms/step - loss: -10136.9014 - accuracy: 0.7064 - val_loss: -12554.3145 - val_accuracy: 0.6956\n",
      "Epoch 8/50\n",
      "843/843 [==============================] - 3s 4ms/step - loss: -14355.3242 - accuracy: 0.7064 - val_loss: -17389.6504 - val_accuracy: 0.6956\n",
      "Epoch 9/50\n",
      "843/843 [==============================] - 4s 4ms/step - loss: -19457.5859 - accuracy: 0.7064 - val_loss: -23136.9375 - val_accuracy: 0.6956\n",
      "Epoch 10/50\n",
      "843/843 [==============================] - 4s 4ms/step - loss: -25500.4043 - accuracy: 0.7064 - val_loss: -29918.4863 - val_accuracy: 0.6956\n",
      "Epoch 11/50\n",
      "843/843 [==============================] - 3s 4ms/step - loss: -32549.9629 - accuracy: 0.7064 - val_loss: -37798.1680 - val_accuracy: 0.6956\n",
      "Epoch 12/50\n",
      "843/843 [==============================] - 3s 4ms/step - loss: -40691.5977 - accuracy: 0.7064 - val_loss: -46824.4336 - val_accuracy: 0.6956\n",
      "Epoch 13/50\n",
      "843/843 [==============================] - 3s 4ms/step - loss: -49929.6133 - accuracy: 0.7064 - val_loss: -56978.8633 - val_accuracy: 0.6956\n",
      "Epoch 14/50\n",
      "843/843 [==============================] - 3s 4ms/step - loss: -60342.4336 - accuracy: 0.7064 - val_loss: -68434.5547 - val_accuracy: 0.6956\n",
      "Epoch 15/50\n",
      "843/843 [==============================] - 4s 4ms/step - loss: -72032.3359 - accuracy: 0.7064 - val_loss: -81236.7344 - val_accuracy: 0.6956\n",
      "Epoch 16/50\n",
      "843/843 [==============================] - 4s 4ms/step - loss: -85020.9297 - accuracy: 0.7064 - val_loss: -95405.3672 - val_accuracy: 0.6956\n",
      "Epoch 17/50\n",
      "843/843 [==============================] - 3s 4ms/step - loss: -99423.0625 - accuracy: 0.7064 - val_loss: -111087.3203 - val_accuracy: 0.6956\n",
      "Epoch 18/50\n",
      "843/843 [==============================] - 3s 4ms/step - loss: -115202.6797 - accuracy: 0.7064 - val_loss: -128168.9688 - val_accuracy: 0.6956\n",
      "Epoch 19/50\n",
      "843/843 [==============================] - 3s 4ms/step - loss: -132438.1250 - accuracy: 0.7064 - val_loss: -146872.7656 - val_accuracy: 0.6956\n",
      "Epoch 20/50\n",
      "843/843 [==============================] - 3s 4ms/step - loss: -151270.0312 - accuracy: 0.7064 - val_loss: -167278.7812 - val_accuracy: 0.6956\n",
      "Epoch 21/50\n",
      "843/843 [==============================] - 3s 4ms/step - loss: -171909.0781 - accuracy: 0.7064 - val_loss: -189570.4688 - val_accuracy: 0.6956\n",
      "Epoch 22/50\n",
      "843/843 [==============================] - 3s 4ms/step - loss: -194008.3438 - accuracy: 0.7064 - val_loss: -213203.7188 - val_accuracy: 0.6956\n",
      "Epoch 23/50\n",
      "843/843 [==============================] - 4s 5ms/step - loss: -217704.2500 - accuracy: 0.7064 - val_loss: -238772.7656 - val_accuracy: 0.6956\n",
      "Epoch 24/50\n",
      "843/843 [==============================] - 4s 4ms/step - loss: -243312.5000 - accuracy: 0.7064 - val_loss: -266346.9688 - val_accuracy: 0.6956\n",
      "Epoch 25/50\n",
      "843/843 [==============================] - 3s 4ms/step - loss: -270801.8438 - accuracy: 0.7064 - val_loss: -295756.0312 - val_accuracy: 0.6956\n",
      "Epoch 26/50\n",
      "843/843 [==============================] - 3s 4ms/step - loss: -300237.0938 - accuracy: 0.7064 - val_loss: -327303.8125 - val_accuracy: 0.6956\n",
      "Epoch 27/50\n",
      "843/843 [==============================] - 3s 4ms/step - loss: -331588.2812 - accuracy: 0.7064 - val_loss: -360816.7188 - val_accuracy: 0.6956\n",
      "Epoch 28/50\n",
      "843/843 [==============================] - 3s 4ms/step - loss: -364837.4688 - accuracy: 0.7064 - val_loss: -396505.2500 - val_accuracy: 0.6956\n",
      "Epoch 29/50\n",
      "843/843 [==============================] - 3s 4ms/step - loss: -400407.3125 - accuracy: 0.7064 - val_loss: -434459.6250 - val_accuracy: 0.6956\n",
      "Epoch 30/50\n",
      "843/843 [==============================] - 4s 4ms/step - loss: -438136.8438 - accuracy: 0.7064 - val_loss: -474589.5312 - val_accuracy: 0.6956\n",
      "Epoch 31/50\n",
      "843/843 [==============================] - 3s 4ms/step - loss: -477628.0938 - accuracy: 0.7064 - val_loss: -516600.4062 - val_accuracy: 0.6956\n",
      "Epoch 32/50\n",
      "843/843 [==============================] - 4s 5ms/step - loss: -519414.6562 - accuracy: 0.7064 - val_loss: -561205.8750 - val_accuracy: 0.6956\n",
      "Epoch 33/50\n",
      "843/843 [==============================] - 3s 4ms/step - loss: -563510.8125 - accuracy: 0.7064 - val_loss: -608220.1875 - val_accuracy: 0.6956\n",
      "Epoch 34/50\n",
      "843/843 [==============================] - 3s 4ms/step - loss: -610216.4375 - accuracy: 0.7064 - val_loss: -658037.8750 - val_accuracy: 0.6956\n",
      "Epoch 35/50\n",
      "843/843 [==============================] - 3s 4ms/step - loss: -659161.6250 - accuracy: 0.7064 - val_loss: -709853.5625 - val_accuracy: 0.6956\n",
      "Epoch 36/50\n",
      "843/843 [==============================] - 3s 4ms/step - loss: -710331.1875 - accuracy: 0.7064 - val_loss: -764315.8125 - val_accuracy: 0.6956\n",
      "Epoch 37/50\n",
      "843/843 [==============================] - 4s 4ms/step - loss: -764345.4375 - accuracy: 0.7064 - val_loss: -821725.4375 - val_accuracy: 0.6956\n",
      "Epoch 38/50\n",
      "843/843 [==============================] - 4s 5ms/step - loss: -820930.3125 - accuracy: 0.7064 - val_loss: -881733.5000 - val_accuracy: 0.6956\n",
      "Epoch 39/50\n",
      "843/843 [==============================] - 4s 4ms/step - loss: -880173.2500 - accuracy: 0.7064 - val_loss: -944691.0000 - val_accuracy: 0.6956\n",
      "Epoch 40/50\n",
      "843/843 [==============================] - 4s 4ms/step - loss: -942199.1250 - accuracy: 0.7064 - val_loss: -1010457.5000 - val_accuracy: 0.6956\n",
      "Epoch 41/50\n",
      "843/843 [==============================] - 4s 5ms/step - loss: -1007176.4375 - accuracy: 0.7064 - val_loss: -1079280.0000 - val_accuracy: 0.6956\n",
      "Epoch 42/50\n",
      "843/843 [==============================] - 4s 4ms/step - loss: -1074694.0000 - accuracy: 0.7064 - val_loss: -1150858.8750 - val_accuracy: 0.6956\n",
      "Epoch 43/50\n",
      "843/843 [==============================] - 4s 4ms/step - loss: -1145516.2500 - accuracy: 0.7064 - val_loss: -1225621.0000 - val_accuracy: 0.6956\n",
      "Epoch 44/50\n",
      "843/843 [==============================] - 4s 4ms/step - loss: -1218998.7500 - accuracy: 0.7064 - val_loss: -1303434.3750 - val_accuracy: 0.6956\n",
      "Epoch 45/50\n",
      "843/843 [==============================] - 4s 5ms/step - loss: -1295691.7500 - accuracy: 0.7064 - val_loss: -1384763.7500 - val_accuracy: 0.6956\n",
      "Epoch 46/50\n",
      "843/843 [==============================] - 4s 5ms/step - loss: -1375128.0000 - accuracy: 0.7064 - val_loss: -1468610.0000 - val_accuracy: 0.6956\n",
      "Epoch 47/50\n",
      "843/843 [==============================] - 4s 5ms/step - loss: -1458030.7500 - accuracy: 0.7064 - val_loss: -1556012.8750 - val_accuracy: 0.6956\n",
      "Epoch 48/50\n",
      "843/843 [==============================] - 4s 4ms/step - loss: -1543667.2500 - accuracy: 0.7064 - val_loss: -1646645.8750 - val_accuracy: 0.6956\n",
      "Epoch 49/50\n",
      "843/843 [==============================] - 4s 4ms/step - loss: -1632527.8750 - accuracy: 0.7064 - val_loss: -1740380.2500 - val_accuracy: 0.6956\n",
      "Epoch 50/50\n",
      "843/843 [==============================] - 4s 5ms/step - loss: -1724321.6250 - accuracy: 0.7064 - val_loss: -1837512.3750 - val_accuracy: 0.6956\n"
     ]
    }
   ],
   "source": [
    "history=model.fit(x_train, y_train, validation_split=0.3, epochs=50, batch_size=10)"
   ]
  },
  {
   "cell_type": "markdown",
   "id": "778cc799",
   "metadata": {},
   "source": [
    "### Accuracy for TRain data"
   ]
  },
  {
   "cell_type": "code",
   "execution_count": 13,
   "id": "362aceb9",
   "metadata": {},
   "outputs": [
    {
     "name": "stdout",
     "output_type": "stream",
     "text": [
      "376/376 [==============================] - 2s 4ms/step - loss: -1791467.7500 - accuracy: 0.7032\n",
      "accuracy: 70.32%\n"
     ]
    }
   ],
   "source": [
    "scores = model.evaluate(x_train, y_train)\n",
    "print(\"%s: %.2f%%\" % (model.metrics_names[1], scores[1]*100))"
   ]
  },
  {
   "cell_type": "markdown",
   "id": "e1c838c5",
   "metadata": {},
   "source": [
    "### Accuracy for test data"
   ]
  },
  {
   "cell_type": "code",
   "execution_count": 14,
   "id": "a5e4f16b",
   "metadata": {},
   "outputs": [
    {
     "name": "stdout",
     "output_type": "stream",
     "text": [
      "94/94 [==============================] - 1s 5ms/step - loss: -1791583.3750 - accuracy: 0.7031\n",
      "accuracy: 70.31%\n"
     ]
    }
   ],
   "source": [
    "scores = model.evaluate(x_test, y_test)\n",
    "print(\"%s: %.2f%%\" % (model.metrics_names[1], scores[1]*100))"
   ]
  }
 ],
 "metadata": {
  "kernelspec": {
   "display_name": "Python 3",
   "language": "python",
   "name": "python3"
  },
  "language_info": {
   "codemirror_mode": {
    "name": "ipython",
    "version": 3
   },
   "file_extension": ".py",
   "mimetype": "text/x-python",
   "name": "python",
   "nbconvert_exporter": "python",
   "pygments_lexer": "ipython3",
   "version": "3.8.8"
  }
 },
 "nbformat": 4,
 "nbformat_minor": 5
}
